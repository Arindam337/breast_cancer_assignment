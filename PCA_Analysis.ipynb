{
 "cells": [
  {
   "cell_type": "code",
   "execution_count": 1,
   "id": "7cf082c1",
   "metadata": {},
   "outputs": [],
   "source": [
    "import numpy as np\n",
    "import pandas as pd\n",
    "import matplotlib.pyplot as plt\n",
    "import seaborn as sns"
   ]
  },
  {
   "cell_type": "code",
   "execution_count": 2,
   "id": "d1d7d292",
   "metadata": {},
   "outputs": [],
   "source": [
    "df=pd.read_csv(\"data.csv\")"
   ]
  },
  {
   "cell_type": "code",
   "execution_count": 3,
   "id": "004d4e0f",
   "metadata": {},
   "outputs": [],
   "source": [
    "from sklearn.model_selection import train_test_split\n",
    "from sklearn.linear_model import LogisticRegression\n",
    "from sklearn.linear_model import LinearRegression"
   ]
  },
  {
   "cell_type": "code",
   "execution_count": 4,
   "id": "f50a116c",
   "metadata": {},
   "outputs": [],
   "source": [
    "df=df.drop(['id'],axis=1)"
   ]
  },
  {
   "cell_type": "code",
   "execution_count": 5,
   "id": "54e8e699",
   "metadata": {},
   "outputs": [],
   "source": [
    "df['diagnosis'] = df['diagnosis'].replace(\"M\", 1) \n",
    "df['diagnosis'] = df['diagnosis'].replace(\"B\", 0)"
   ]
  },
  {
   "cell_type": "code",
   "execution_count": 6,
   "id": "56551477",
   "metadata": {},
   "outputs": [],
   "source": [
    "df['radius_mean']=df['radius_mean'].fillna(df['radius_mean'].median())\n",
    "df['area_mean']=df['area_mean'].fillna(df['area_mean'].median())"
   ]
  },
  {
   "cell_type": "code",
   "execution_count": 7,
   "id": "bb230703",
   "metadata": {},
   "outputs": [
    {
     "data": {
      "text/plain": [
       "diagnosis                  0\n",
       "radius_mean                0\n",
       "texture_mean               0\n",
       "perimeter_mean             0\n",
       "area_mean                  0\n",
       "smoothness_mean            0\n",
       "compactness_mean           0\n",
       "concavity_mean             0\n",
       "concave_points_mean        0\n",
       "symmetry_mean              0\n",
       "fractal_dimension_mean     0\n",
       "radius_sd                  0\n",
       "texture_sd                 0\n",
       "perimeter_sd               0\n",
       "area_sd                    0\n",
       "smoothness_sd              0\n",
       "compactness_sd             0\n",
       "concavity_sd               0\n",
       "concave_points_sd          0\n",
       "symmetry_sd                0\n",
       "fractal_dimension_sd       0\n",
       "radius_worst               0\n",
       "texture_worst              0\n",
       "perimeter_worst            0\n",
       "area_worst                 0\n",
       "smoothness_worst           0\n",
       "compactness_worst          0\n",
       "concavity_worst            0\n",
       "concave_points_worst       0\n",
       "symmetry_worst             0\n",
       "fractal_dimension_worst    0\n",
       "dtype: int64"
      ]
     },
     "execution_count": 7,
     "metadata": {},
     "output_type": "execute_result"
    }
   ],
   "source": [
    "df.isnull().sum()"
   ]
  },
  {
   "cell_type": "code",
   "execution_count": 8,
   "id": "1fa32dd7",
   "metadata": {},
   "outputs": [],
   "source": [
    "X = df.iloc[:, 0:2].values\n",
    "y = df.iloc[:, 2].values"
   ]
  },
  {
   "cell_type": "code",
   "execution_count": 9,
   "id": "7f0bd43c",
   "metadata": {},
   "outputs": [],
   "source": [
    "from sklearn.model_selection import train_test_split\n",
    "X_train, X_test, y_train, y_test = train_test_split(X, y, test_size = 0.2, random_state = 0)"
   ]
  },
  {
   "cell_type": "code",
   "execution_count": 10,
   "id": "32331b90",
   "metadata": {},
   "outputs": [],
   "source": [
    "from sklearn.preprocessing import StandardScaler\n",
    "sc = StandardScaler()\n",
    "\n",
    "X_train = sc.fit_transform(X_train)\n",
    "X_test = sc.transform(X_test)"
   ]
  },
  {
   "cell_type": "code",
   "execution_count": 11,
   "id": "b8782bc6",
   "metadata": {},
   "outputs": [],
   "source": [
    "from sklearn.decomposition import PCA\n",
    "pca = PCA(n_components = 2)\n",
    "X_train = pca.fit_transform(X_train)\n",
    "X_test = pca.transform(X_test)\n",
    "explained_variance = pca.explained_variance_ratio_\n"
   ]
  },
  {
   "cell_type": "code",
   "execution_count": 12,
   "id": "e28aa337",
   "metadata": {},
   "outputs": [],
   "source": [
    "from sklearn.linear_model import LogisticRegression\n",
    "classifier = LogisticRegression(random_state = 0)"
   ]
  },
  {
   "cell_type": "code",
   "execution_count": 13,
   "id": "37732765",
   "metadata": {
    "scrolled": true
   },
   "outputs": [
    {
     "name": "stdout",
     "output_type": "stream",
     "text": [
      "[  1 186 324 297  60 107 282 313 349 407 391 189 418 403 378 451 287 306\n",
      " 364  61 108  16  59 384 330 133 336 293 432  85 426 229 405 440 188 341\n",
      " 345 216 429 312 340 328 419 295 348 179 146 227  66 368 342 130 208 229\n",
      " 358 230 222 341 253   8  77 316 364  47 399 402 319 243 168 135 327  67\n",
      " 413 111 136 269   6 123 404 194 315 114 421 439 102 220 333 415 347  91\n",
      " 406 381  73 210 276 383 187 279  20 274 422  40 299 259 252  99 212 221\n",
      " 271 325 151 310 269 289 113 336 110 140 382 283   3 157 290   4 132 162\n",
      " 417 239 132 427  36 261 337  49 354 373 140  93 178  39  10 197 167 117\n",
      "  82  68 138 231  89 190 311 307  92  27  92 193 309 260  18  24 288 118\n",
      " 202 365 359 273   0 232 416 150  15 268   9  71  88  64 198 286 365  26\n",
      " 351 441 296  78 371  87 223 160 171 115 387 331 207 445 389 129 367 350\n",
      " 374 292 264 254 443 396 225 141 165 294 376  23 363 240 218 436 398 148\n",
      " 213 174 338 475  31  48 176 293 153  42  95  98 404 369 245 449 477 453\n",
      " 116 324 446 333 454 478 100  84 206 397 394 277 172  56 430  79 395 217\n",
      " 275 156 255 154 464 165 388 476 448 385 362 258 360 474 241 350 127 298\n",
      " 144  25 317 104 411 170  57 282 187  89 442  51 205 231 107 215 310  29\n",
      " 280 237 272 246 120 173  45  35  14 201 204 386 238 278 400 226 203 412\n",
      " 112  62  17  46 247 106  38   2 225 147  54 236 238 152 126 270  37 335\n",
      "  90 166  22 192 308 352  98 257 277  74 242 318  58 332 176 409 137 146\n",
      "  81 343  94  71 238  72 121  81 155 250 173 437  53 244 224 127  96 211\n",
      " 199 339 235 209 150 346 444 195 163 353 392  33  86 169 122 122 292 461\n",
      "  88 234  24  79 380 174  44 392  55 124  97 389  12 146 281 366 185 159\n",
      " 237 173  75 164 320   5 209 125  80 224  76 329 304 191 178 145 343 361\n",
      " 470 322 344 321  11 331 243  50 120 249 248 326  83 357 139 183 375 184\n",
      " 263 356 149 267 263 119 266 103 161 433 111 211 147 420 456 182 256 299\n",
      " 337 424 462  50 158 473 466 431 428 460 450 438 447 214 207 287 309 200\n",
      " 393 205 219 459  79 471 101 109 300 139  65 262 196 251  52 181   7 134\n",
      " 147 233 125 290 372  34 302  19 301 291 204 167 175 323 143 412 128 276\n",
      "  21  30 285 157 107 403  69  70 299  43 244 226 303 294 207 142  48 342\n",
      " 276 228 105  28 230  13  32  41 177 284 129 305 180 314 377 410 435 434\n",
      "  63 423 433 457 307 390 131 138 256 408 334 372 469 355 465 452 265 455\n",
      " 379 401 450 468 472 425 370 463 458 467 414]\n"
     ]
    }
   ],
   "source": [
    "from sklearn import preprocessing\n",
    "from sklearn import utils\n",
    "lab = preprocessing.LabelEncoder()\n",
    "y_transformed = lab.fit_transform(y)\n",
    "print(y_transformed)"
   ]
  },
  {
   "cell_type": "code",
   "execution_count": 14,
   "id": "e8993932",
   "metadata": {
    "scrolled": true
   },
   "outputs": [
    {
     "name": "stderr",
     "output_type": "stream",
     "text": [
      "C:\\Users\\91790\\New folder (8)\\lib\\site-packages\\sklearn\\linear_model\\_logistic.py:763: ConvergenceWarning: lbfgs failed to converge (status=1):\n",
      "STOP: TOTAL NO. of ITERATIONS REACHED LIMIT.\n",
      "\n",
      "Increase the number of iterations (max_iter) or scale the data as shown in:\n",
      "    https://scikit-learn.org/stable/modules/preprocessing.html\n",
      "Please also refer to the documentation for alternative solver options:\n",
      "    https://scikit-learn.org/stable/modules/linear_model.html#logistic-regression\n",
      "  n_iter_i = _check_optimize_result(\n"
     ]
    },
    {
     "data": {
      "text/plain": [
       "LogisticRegression()"
      ]
     },
     "execution_count": 14,
     "metadata": {},
     "output_type": "execute_result"
    }
   ],
   "source": [
    "classifier = LogisticRegression()\n",
    "classifier.fit(X, y_transformed)"
   ]
  },
  {
   "cell_type": "code",
   "execution_count": 15,
   "id": "a932af97",
   "metadata": {},
   "outputs": [],
   "source": [
    "y_pred = classifier.predict(X_test)"
   ]
  },
  {
   "cell_type": "code",
   "execution_count": 16,
   "id": "c443748b",
   "metadata": {},
   "outputs": [],
   "source": [
    "from matplotlib.colors import ListedColormap\n"
   ]
  },
  {
   "cell_type": "code",
   "execution_count": 17,
   "id": "5ce75379",
   "metadata": {},
   "outputs": [],
   "source": [
    "scaled_data=preprocessing.scale(df.T)"
   ]
  },
  {
   "cell_type": "code",
   "execution_count": 18,
   "id": "378b1564",
   "metadata": {},
   "outputs": [],
   "source": [
    "pca=PCA()\n",
    "pca.fit(scaled_data)\n",
    "pca_data=pca.transform(scaled_data)"
   ]
  },
  {
   "cell_type": "code",
   "execution_count": 19,
   "id": "90884a72",
   "metadata": {},
   "outputs": [
    {
     "data": {
      "text/plain": [
       "array([[-7.64984777e+00, -2.34073822e-01, -3.19487333e-01,\n",
       "        -9.86635264e-02, -2.13440141e-02,  1.45066532e-02,\n",
       "        -2.21560141e-03, -8.32429749e-03, -4.30730814e-03,\n",
       "        -9.48495721e-03, -9.28021148e-03,  3.32419736e-02,\n",
       "        -2.76415697e-03, -5.29401795e-04,  1.03972040e-05,\n",
       "        -8.08227669e-05, -1.15698546e-04,  3.93485151e-05,\n",
       "        -6.93394634e-05,  6.68626100e-06,  2.67867574e-05,\n",
       "        -1.59227652e-05,  1.24000765e-05, -1.86790569e-06,\n",
       "        -2.01483444e-06, -2.18439121e-08, -9.80496517e-08,\n",
       "         2.57876464e-07, -1.13535742e-07, -1.04591614e-07,\n",
       "        -1.02851755e-14],\n",
       "       [-5.61269242e+00,  9.29301285e-02,  1.75489857e-01,\n",
       "        -7.85622134e-02, -8.07850854e-02, -6.44767638e-02,\n",
       "        -8.50330691e-03,  1.32437275e-01,  1.65935551e-03,\n",
       "        -1.10257026e-02, -2.45843785e-03, -8.11220541e-05,\n",
       "         6.26529968e-04,  1.44319542e-05, -6.20509174e-05,\n",
       "         9.34994181e-06,  1.18845426e-05,  5.73261547e-06,\n",
       "        -8.18309808e-07, -5.06924206e-06, -8.25233460e-07,\n",
       "        -1.26996556e-06,  3.37725707e-07,  3.71613733e-07,\n",
       "         2.49663801e-07, -1.52580741e-08,  8.73479671e-08,\n",
       "        -5.61865297e-08,  2.92452684e-08, -5.75617484e-08,\n",
       "        -4.03670153e-15],\n",
       "       [-4.64147491e+00,  3.90233460e-01,  8.88339825e-01,\n",
       "         1.22926540e-01,  6.10652312e-01, -9.12898177e-02,\n",
       "         1.75482262e-01, -3.62222584e-04,  1.68186041e-03,\n",
       "         3.99194248e-03, -4.00707420e-03,  2.20502655e-04,\n",
       "         2.08887123e-04,  3.66844760e-05,  4.64366496e-07,\n",
       "        -1.17921437e-05,  1.33468899e-05, -5.91871916e-06,\n",
       "         8.76982256e-06, -3.02722415e-06,  1.73916441e-06,\n",
       "         3.35076907e-07, -4.80161116e-07,  1.15990435e-07,\n",
       "         4.86830792e-08,  2.52768470e-07, -3.89763073e-07,\n",
       "        -1.31374907e-07, -2.33458212e-08, -4.26388900e-08,\n",
       "        -1.75554016e-15],\n",
       "       [ 5.62422299e+00,  1.59621197e+00,  2.51212151e+00,\n",
       "         1.42706994e-03, -4.15334847e-01, -2.82134091e-01,\n",
       "        -3.22526591e-02, -2.84189384e-02, -7.53424136e-05,\n",
       "        -4.62539834e-03,  1.47342371e-03,  3.94743259e-04,\n",
       "        -1.84418317e-04,  3.37406137e-05,  4.64643170e-05,\n",
       "         1.32385124e-05, -3.92232016e-06, -1.50044795e-05,\n",
       "        -4.11346729e-06, -3.27723737e-06,  2.05879937e-06,\n",
       "         1.81146697e-06,  8.17357792e-07, -3.79513815e-07,\n",
       "        -4.00720793e-07, -1.00105248e-07, -7.76572938e-08,\n",
       "         7.35747925e-08, -2.82157635e-08,  8.43175677e-09,\n",
       "         7.86176679e-15],\n",
       "       [ 7.70024361e+01,  9.23429618e+00, -1.04157835e+00,\n",
       "         3.23957060e-02,  3.32631191e-02,  7.76179065e-03,\n",
       "         1.26572878e-04,  2.19227407e-04, -4.65611931e-05,\n",
       "         5.48717252e-05,  1.67943122e-05, -5.09322811e-06,\n",
       "         8.24874617e-06,  4.12116999e-07, -2.50119515e-07,\n",
       "        -6.89875053e-09,  1.38863919e-07,  1.20380681e-07,\n",
       "        -8.89102045e-08,  4.36615363e-08,  1.13545246e-08,\n",
       "         1.40681734e-09,  6.13400748e-09,  1.25390596e-08,\n",
       "         1.81958337e-09,  2.36486658e-09, -1.69446189e-09,\n",
       "         1.61210503e-09,  9.55002639e-10, -1.24703373e-10,\n",
       "         1.30728761e-14],\n",
       "       [-7.66868470e+00, -2.08638073e-01, -2.97992498e-01,\n",
       "        -9.85927573e-02, -3.05975400e-02,  2.51928277e-03,\n",
       "        -7.15336375e-04, -4.29670584e-03, -4.33981458e-03,\n",
       "         7.33063916e-04, -2.28450950e-04, -2.36691760e-03,\n",
       "        -3.35185573e-03,  4.81661196e-05, -1.65721865e-04,\n",
       "        -6.74976779e-04,  9.75293725e-04, -4.09480474e-04,\n",
       "        -8.33159684e-04, -2.63213325e-04,  7.13567533e-05,\n",
       "        -4.23344345e-04, -2.10104848e-04, -6.87744642e-04,\n",
       "         4.46451867e-04, -4.11842025e-05, -3.26469912e-05,\n",
       "        -4.75029825e-05, -1.84427965e-05,  2.13993066e-05,\n",
       "        -1.41206491e-15],\n",
       "       [-7.66900479e+00, -2.10621960e-01, -2.99237011e-01,\n",
       "        -9.79712424e-02, -3.08333527e-02,  4.16951203e-03,\n",
       "        -3.11202990e-04, -6.49069929e-03, -3.51241445e-03,\n",
       "        -2.55177765e-03, -1.77765093e-03, -2.15641219e-03,\n",
       "        -8.81791621e-04,  1.91020954e-03, -1.02177261e-03,\n",
       "         1.46365786e-04,  1.21225497e-03,  1.53065298e-03,\n",
       "        -3.69742215e-04, -1.07923075e-04, -7.26957233e-04,\n",
       "        -8.89795748e-04,  5.49514426e-04,  6.54389178e-05,\n",
       "        -2.08113607e-04,  1.02921225e-05, -1.02105953e-05,\n",
       "        -2.71207444e-05, -1.24380221e-06,  5.88926810e-08,\n",
       "        -1.03909936e-14],\n",
       "       [-7.67317911e+00, -2.13098162e-01, -3.02592108e-01,\n",
       "        -9.75893693e-02, -3.02722369e-02,  3.98551642e-03,\n",
       "        -6.50309783e-04, -7.37484311e-03, -3.09788578e-03,\n",
       "        -3.69843893e-03, -3.16295675e-03, -2.03075260e-03,\n",
       "         2.74937768e-03, -1.97053583e-03, -1.66941904e-04,\n",
       "         4.55533964e-04,  5.72759880e-04,  2.00924573e-03,\n",
       "         2.93300910e-04, -2.91288086e-04, -5.81346776e-04,\n",
       "         7.41604672e-04, -5.05704627e-04,  4.80189868e-05,\n",
       "         1.08372673e-04, -2.21898821e-04, -4.23897455e-05,\n",
       "        -3.74215955e-05,  5.71327590e-06,  4.26273708e-06,\n",
       "        -3.24393290e-16],\n",
       "       [-7.67835801e+00, -2.12749274e-01, -3.04198093e-01,\n",
       "        -9.91126234e-02, -3.04220332e-02,  2.55768279e-03,\n",
       "        -6.08196801e-04, -5.16442427e-03, -3.81147557e-03,\n",
       "        -9.58177884e-04, -9.93253794e-04, -2.08772496e-03,\n",
       "        -2.77055931e-03, -6.28750396e-04, -7.77198639e-04,\n",
       "        -1.00033551e-04,  6.42710373e-04, -3.06436466e-05,\n",
       "         8.55936743e-04,  1.70148723e-04, -5.71426882e-04,\n",
       "         1.35440672e-04, -3.42103052e-04,  7.98328155e-06,\n",
       "         5.62537008e-05,  5.50746708e-04,  9.81784571e-05,\n",
       "         8.63461927e-05,  6.63548269e-07, -1.21654848e-05,\n",
       "         1.71199860e-14],\n",
       "       [-7.65493116e+00, -2.05653556e-01, -2.92090534e-01,\n",
       "        -9.69049621e-02, -3.03725711e-02,  2.78218898e-03,\n",
       "        -4.45367598e-04, -3.73475248e-03, -4.18755054e-03,\n",
       "         9.51301381e-04, -2.80684239e-04, -2.24040685e-03,\n",
       "        -2.30022675e-03,  8.46673441e-04,  2.71572979e-03,\n",
       "         2.58696070e-04,  3.63192857e-04,  5.03829195e-04,\n",
       "        -7.07207274e-04,  2.21226313e-03,  4.21703070e-04,\n",
       "         4.61643886e-05, -1.35869545e-04,  2.55606635e-05,\n",
       "        -3.15802297e-05, -2.28859854e-05,  4.37487731e-05,\n",
       "        -5.91310222e-06, -3.83942705e-06, -2.20459133e-06,\n",
       "        -8.46198112e-15],\n",
       "       [-7.67379683e+00, -2.09514263e-01, -2.99430155e-01,\n",
       "        -9.88294221e-02, -3.00596829e-02,  2.28957976e-03,\n",
       "        -2.60782245e-04, -4.23495951e-03, -4.17559593e-03,\n",
       "         5.34696087e-04, -2.31817889e-04, -2.67968672e-03,\n",
       "        -3.08048668e-03, -3.71805922e-04, -2.98708861e-04,\n",
       "        -5.82896721e-04, -4.48697045e-04, -1.80093846e-04,\n",
       "        -4.30838791e-04,  1.46129698e-05, -2.86267333e-04,\n",
       "         2.39556286e-04,  2.94489122e-04, -1.01276959e-04,\n",
       "         6.67116330e-07, -1.57999035e-04, -4.35964256e-05,\n",
       "         3.74674765e-04, -1.54608898e-06, -1.00168047e-05,\n",
       "        -5.46437895e-16],\n",
       "       [-7.62930758e+00, -2.10840098e-01, -2.91724773e-01,\n",
       "        -7.56925277e-02, -3.08729762e-02,  4.03620519e-03,\n",
       "         1.27323069e-03, -3.55346006e-03, -5.38296369e-04,\n",
       "         2.24576492e-03,  5.11515728e-03, -6.10220893e-04,\n",
       "        -1.04469758e-03, -8.34332160e-04, -7.65654910e-04,\n",
       "         4.65998314e-03,  3.29552246e-04, -8.42254882e-04,\n",
       "        -5.16024271e-04, -1.89189858e-04,  3.29266962e-05,\n",
       "         4.65228811e-05,  6.04620640e-05,  1.98402364e-05,\n",
       "         3.32293137e-06, -8.71436952e-06,  1.16320618e-06,\n",
       "         7.30046025e-06,  5.02646618e-06,  2.70861488e-06,\n",
       "        -4.79703083e-14],\n",
       "       [-7.47894388e+00, -1.50910245e-01, -2.04882544e-01,\n",
       "        -3.92258322e-02,  1.74075632e-02, -1.64275142e-02,\n",
       "        -3.12258571e-02,  1.79689848e-04,  6.48295789e-02,\n",
       "         2.92125767e-02, -1.78635007e-02,  4.68698181e-04,\n",
       "         5.31096607e-04,  1.57019739e-04,  1.58181830e-05,\n",
       "        -7.35911641e-05,  8.31092994e-06, -4.89665130e-06,\n",
       "         2.78787956e-05, -1.29711872e-05,  4.56095829e-06,\n",
       "        -1.09536372e-06,  3.00526201e-06,  2.41942050e-06,\n",
       "        -8.06763198e-07,  1.53948921e-06, -2.28161276e-06,\n",
       "        -1.56211594e-07, -4.11949198e-08, -9.35963552e-08,\n",
       "        -4.61262972e-15],\n",
       "       [-7.29691692e+00, -1.99858651e-01, -2.16994964e-01,\n",
       "         5.81253775e-02, -4.04706547e-02,  3.73529757e-02,\n",
       "         2.20541193e-02, -9.14100194e-03,  4.10703523e-02,\n",
       "        -2.54960703e-02,  3.81124215e-02,  2.19360244e-03,\n",
       "         1.89426599e-03,  2.30346422e-04,  1.75332356e-04,\n",
       "        -4.59256812e-04, -1.53615266e-05,  1.53479340e-05,\n",
       "         3.55840774e-05,  5.55342903e-06,  6.91741154e-06,\n",
       "         7.05062260e-06, -6.46035877e-06, -3.54788574e-06,\n",
       "        -1.42394212e-06,  1.63391492e-06, -5.21134383e-07,\n",
       "        -5.51681488e-07, -7.37799936e-07, -4.10907721e-07,\n",
       "         3.20056481e-15],\n",
       "       [-3.06251177e+00, -8.60257813e-01, -3.94725141e-01,\n",
       "         1.96498600e+00, -9.39584576e-02,  1.35739151e-03,\n",
       "        -9.96552952e-03,  5.46633393e-04, -4.69789961e-03,\n",
       "         8.89935930e-04, -2.27307875e-03, -1.89375054e-04,\n",
       "        -1.31675970e-04, -6.50904615e-06, -7.39258038e-06,\n",
       "        -1.57232526e-05, -3.65173037e-06,  3.44237558e-06,\n",
       "         3.70293431e-06,  1.10420579e-06, -9.22910927e-07,\n",
       "        -7.71826728e-07, -1.16005180e-08, -2.09338702e-08,\n",
       "        -1.38120448e-08, -3.08822192e-08, -1.99376457e-08,\n",
       "        -2.65989442e-08, -1.27057432e-08,  1.46015580e-10,\n",
       "        -2.06063465e-15],\n",
       "       [-7.68299119e+00, -2.11700652e-01, -3.03473765e-01,\n",
       "        -9.93979662e-02, -2.98214471e-02,  1.89180561e-03,\n",
       "        -3.22959121e-04, -4.16852253e-03, -4.07972398e-03,\n",
       "         3.68812411e-04, -1.35629802e-04, -2.70262089e-03,\n",
       "        -3.69605939e-03, -8.10120807e-04, -6.00032634e-04,\n",
       "        -4.58181280e-04, -6.65318887e-04, -6.14301076e-04,\n",
       "         2.02669538e-05,  9.32358209e-05, -2.39912200e-04,\n",
       "        -9.10027094e-05, -2.66010600e-04,  1.33545095e-04,\n",
       "        -2.18520558e-04, -4.09600797e-06, -1.35752417e-04,\n",
       "        -3.44484539e-05, -9.31894332e-05,  1.65105631e-04,\n",
       "        -2.19095575e-15],\n",
       "       [-7.68024163e+00, -2.11360983e-01, -3.02335407e-01,\n",
       "        -9.86093715e-02, -3.00672608e-02,  2.36329768e-03,\n",
       "        -1.06397860e-04, -5.22229621e-03, -3.63201990e-03,\n",
       "        -9.44535886e-04, -7.88495725e-04, -2.89718131e-03,\n",
       "        -1.92748937e-03, -4.16404074e-04, -9.61171796e-04,\n",
       "        -1.53332156e-04, -1.29247260e-03,  3.05884002e-04,\n",
       "         1.91154672e-05,  2.31573813e-05,  2.55509169e-04,\n",
       "        -3.63382896e-04,  1.64947391e-04,  6.91086344e-04,\n",
       "         5.03400759e-04,  4.12329924e-06,  6.30744718e-06,\n",
       "        -1.38717550e-05, -2.12458815e-06, -1.39456629e-07,\n",
       "        -6.64225619e-15],\n",
       "       [-7.67927606e+00, -2.11318663e-01, -3.01781055e-01,\n",
       "        -9.78923677e-02, -3.01574238e-02,  2.44445361e-03,\n",
       "        -2.95289807e-04, -5.94685234e-03, -3.60337172e-03,\n",
       "        -1.46396256e-03, -1.60957485e-03, -3.34817352e-03,\n",
       "         1.50009390e-03, -3.12642162e-03, -2.07193428e-04,\n",
       "         1.90468963e-04, -1.17596193e-03,  1.41566256e-03,\n",
       "        -4.84137925e-05, -5.22070989e-04,  1.32801683e-03,\n",
       "        -1.57393791e-04,  7.57072001e-05, -2.98232995e-04,\n",
       "        -1.75125857e-04,  1.42655788e-04,  5.48955195e-05,\n",
       "         2.38128880e-05, -2.51936427e-05,  4.09694819e-06,\n",
       "        -3.35721034e-14],\n",
       "       [-7.68244192e+00, -2.11794632e-01, -3.03599117e-01,\n",
       "        -9.92810913e-02, -3.01072085e-02,  1.96659881e-03,\n",
       "        -3.34941342e-04, -4.49257784e-03, -3.95275160e-03,\n",
       "        -4.38782805e-05, -2.85757188e-04, -2.74552622e-03,\n",
       "        -3.21247052e-03, -1.12044705e-03, -6.90539744e-04,\n",
       "        -3.39018100e-04, -6.01057388e-04, -3.77706161e-04,\n",
       "         4.28112721e-04,  1.89175702e-04,  1.04440797e-05,\n",
       "        -1.98781181e-04, -1.46405543e-04, -6.89137147e-05,\n",
       "        -1.19021513e-04, -1.35253294e-05, -1.70800575e-04,\n",
       "        -4.65647860e-05,  2.36886563e-04, -1.24276302e-05,\n",
       "         2.04523898e-15],\n",
       "       [-7.68075488e+00, -2.10992660e-01, -3.02582496e-01,\n",
       "        -9.88619871e-02, -2.98862945e-02,  1.92765335e-03,\n",
       "        -2.12910128e-04, -4.11623756e-03, -3.76830946e-03,\n",
       "         5.60839741e-04, -1.67208015e-04, -2.59158043e-03,\n",
       "        -3.50477035e-03, -6.75271428e-04,  1.28122160e-04,\n",
       "        -3.08841776e-04, -9.27659246e-04, -6.13984261e-04,\n",
       "         3.50667550e-04, -1.69951183e-04, -4.60066355e-04,\n",
       "        -3.01965118e-04, -2.65314993e-04, -4.87302639e-05,\n",
       "        -1.32525468e-04, -2.38728960e-04,  3.66501691e-04,\n",
       "        -4.13354295e-05,  1.09709029e-05, -1.51252225e-05,\n",
       "         3.93955701e-15],\n",
       "       [-7.68357834e+00, -2.11919421e-01, -3.03815992e-01,\n",
       "        -9.94916027e-02, -2.98907453e-02,  1.95580847e-03,\n",
       "        -3.31448589e-04, -4.30224150e-03, -4.07476129e-03,\n",
       "         2.43977744e-04, -2.31799847e-04, -2.77197924e-03,\n",
       "        -3.48837388e-03, -8.97211440e-04, -6.65936797e-04,\n",
       "        -2.72385581e-04, -8.62288425e-04, -5.00421190e-04,\n",
       "         1.31242825e-04,  1.69463999e-04, -2.83908157e-04,\n",
       "         4.79300432e-06, -5.90004737e-05, -5.96798105e-05,\n",
       "        -1.19586767e-04, -1.39497527e-05, -1.77639681e-04,\n",
       "        -9.67773607e-05, -1.28210263e-04, -1.47693212e-04,\n",
       "        -1.36522738e-15],\n",
       "       [-5.36345454e+00,  2.34295492e-02,  1.79302652e-01,\n",
       "        -7.69019510e-02, -6.22370104e-02,  8.66349353e-03,\n",
       "        -4.40765392e-03,  1.53741496e-02, -2.15078093e-02,\n",
       "         4.64756632e-02,  2.57153692e-02,  6.80998361e-03,\n",
       "         6.71465045e-03,  3.88751807e-04, -4.97936913e-04,\n",
       "        -4.27686046e-04, -2.88766012e-05,  1.17308741e-04,\n",
       "         1.27855775e-04,  3.90627387e-05, -2.98541393e-05,\n",
       "        -1.21027702e-05, -1.57570839e-05,  7.41471996e-07,\n",
       "        -4.62418360e-08,  5.79356001e-07, -3.32402989e-07,\n",
       "        -1.24885430e-06, -5.07010884e-07, -2.37053683e-07,\n",
       "         1.97324795e-15],\n",
       "       [-3.65233869e+00,  4.92188119e-01,  1.27780851e+00,\n",
       "         5.97839790e-02,  8.91108396e-01,  2.58299889e-02,\n",
       "        -1.26847996e-01, -2.43462882e-03, -4.58868687e-03,\n",
       "        -5.39480988e-03,  3.77724804e-03, -4.06411334e-04,\n",
       "        -2.74549651e-04, -3.89939339e-05, -4.15357633e-06,\n",
       "         1.61369235e-05, -6.82875016e-06,  4.68477319e-06,\n",
       "        -5.98226631e-06,  2.69401702e-06, -1.53333740e-06,\n",
       "        -5.26216044e-07,  2.68368958e-07, -4.97781523e-07,\n",
       "         1.08842313e-07, -2.22188161e-07,  4.00260791e-07,\n",
       "         1.10030738e-07,  2.28502533e-08,  3.14192003e-08,\n",
       "        -2.93775421e-15],\n",
       "       [ 7.51601945e+00,  1.21957828e+00,  2.76126096e+00,\n",
       "         2.63563285e-02, -2.89313601e-01,  2.92558794e-01,\n",
       "         2.89572315e-02,  4.84243863e-03,  1.58196562e-03,\n",
       "        -2.91544695e-04, -5.98953604e-03, -1.15517172e-03,\n",
       "        -1.04732214e-03, -1.38946387e-04,  4.96308294e-06,\n",
       "         4.95562630e-05, -2.37801195e-07, -1.90067463e-06,\n",
       "        -1.11853103e-05, -1.63327551e-06,  2.89315443e-07,\n",
       "        -4.39638506e-07,  8.39633677e-07,  5.98880181e-07,\n",
       "         1.25780423e-07,  6.81033237e-08,  1.15664977e-07,\n",
       "         3.19617768e-09,  7.43401394e-08,  3.60421147e-08,\n",
       "         7.01522174e-15],\n",
       "       [ 1.00288444e+02, -7.60433652e+00,  5.76688101e-02,\n",
       "        -1.15755921e-01,  2.24681321e-02, -1.00225464e-02,\n",
       "         2.58570444e-04, -9.12408179e-05,  3.21250573e-04,\n",
       "        -1.23855304e-04,  1.17472793e-04, -2.41500602e-05,\n",
       "         5.17110359e-06,  3.79197426e-06,  3.26781456e-06,\n",
       "         5.31685841e-07,  2.77951892e-07, -3.60375372e-07,\n",
       "        -5.54770884e-07, -1.48445951e-07,  2.25682972e-07,\n",
       "         7.07764977e-08,  6.14410783e-08, -3.66244451e-08,\n",
       "         6.88022439e-09, -1.00177865e-08,  1.42375476e-09,\n",
       "         7.62855662e-09,  2.15673251e-09,  2.88807200e-10,\n",
       "         7.72160114e-14],\n",
       "       [-7.66287969e+00, -2.07871952e-01, -2.95114562e-01,\n",
       "        -9.89034296e-02, -3.00054639e-02,  3.40034265e-03,\n",
       "        -1.19428473e-03, -4.30814283e-03, -5.25878860e-03,\n",
       "         9.52067639e-04, -4.73133297e-04, -2.14351154e-03,\n",
       "        -2.87279064e-03,  6.58175216e-04,  5.55326488e-05,\n",
       "        -1.17194591e-03,  1.74268313e-03, -5.78356059e-04,\n",
       "        -1.51571213e-03, -8.58056415e-04,  6.66983532e-04,\n",
       "         2.29266379e-04, -2.95673878e-04,  4.47557447e-04,\n",
       "        -1.68710537e-04,  7.60687472e-06,  2.45719707e-05,\n",
       "        -2.50113703e-06,  1.49763260e-05, -3.12912571e-05,\n",
       "         3.53536644e-15],\n",
       "       [-7.64791197e+00, -2.11273905e-01, -2.92876543e-01,\n",
       "        -1.00915028e-01, -2.94461851e-02,  1.18938164e-02,\n",
       "        -1.48224685e-03, -1.01327315e-02, -4.47302005e-03,\n",
       "        -8.46498530e-03, -7.34214414e-03, -9.27079923e-04,\n",
       "         6.65485624e-03,  7.81431576e-03, -2.35182759e-03,\n",
       "         3.03901198e-04, -8.49203676e-04,  2.01640830e-05,\n",
       "         2.39377522e-04, -2.55323603e-05,  3.14186370e-04,\n",
       "         1.63954465e-04, -2.76454706e-04, -1.13066105e-04,\n",
       "        -1.87582264e-05, -6.53255174e-06,  2.45060711e-07,\n",
       "         1.57746221e-05, -4.59002228e-07, -7.05150555e-07,\n",
       "        -1.48266815e-14],\n",
       "       [-7.64790668e+00, -2.14629842e-01, -2.95433639e-01,\n",
       "        -1.00876626e-01, -2.86125979e-02,  1.24550565e-02,\n",
       "        -2.50463616e-03, -1.31828659e-02, -4.35531465e-03,\n",
       "        -1.16570768e-02, -1.11191847e-02, -1.52072311e-03,\n",
       "         1.92977249e-02, -2.85423461e-03,  8.67598203e-04,\n",
       "        -4.33285362e-04,  1.76550272e-04, -9.44819893e-04,\n",
       "        -4.15702701e-04,  1.97778396e-04, -2.74460154e-04,\n",
       "        -1.98797199e-04,  8.60267620e-05,  4.42850283e-05,\n",
       "         2.50621064e-07,  2.56665909e-05, -2.05955596e-06,\n",
       "         3.62466518e-06,  2.17034456e-06, -1.65533929e-06,\n",
       "         2.44596010e-15],\n",
       "       [-7.66914848e+00, -2.12744996e-01, -3.02204906e-01,\n",
       "        -1.00413046e-01, -3.06060221e-02,  4.67254726e-03,\n",
       "        -1.29598609e-03, -6.16839826e-03, -4.37366859e-03,\n",
       "        -2.41042308e-03, -2.18806992e-03, -1.76131573e-03,\n",
       "        -7.13662114e-04, -4.96090660e-04, -1.02228156e-03,\n",
       "        -2.65307394e-04,  1.82039676e-03, -5.93099222e-04,\n",
       "         2.33137551e-03,  2.33010899e-04,  6.92178489e-04,\n",
       "         1.19524127e-04,  3.74519165e-04,  2.02394962e-05,\n",
       "         1.90326220e-05, -1.57147660e-04,  7.43671535e-06,\n",
       "        -6.95355423e-06, -2.75783936e-05,  8.00697961e-06,\n",
       "         1.16798932e-14],\n",
       "       [-7.63796504e+00, -2.03386200e-01, -2.85769721e-01,\n",
       "        -9.84971286e-02, -2.96322951e-02,  5.81668918e-03,\n",
       "        -1.18299469e-03, -3.32299308e-03, -6.21455147e-03,\n",
       "         1.35494730e-03, -5.88309118e-04, -1.37878370e-03,\n",
       "        -8.84370249e-04,  2.39341288e-03,  6.63950646e-03,\n",
       "         3.71429747e-04, -3.36824695e-04, -4.38873912e-05,\n",
       "         7.71018706e-04, -8.91042728e-04, -1.05570129e-04,\n",
       "        -3.91044628e-05,  8.71155145e-05,  1.81301570e-05,\n",
       "         2.71725681e-05,  4.31383848e-05, -5.82991818e-05,\n",
       "         8.09008127e-07,  4.36577660e-07,  2.23574043e-06,\n",
       "         1.51927082e-14],\n",
       "       [-7.67058341e+00, -2.09321342e-01, -2.98071418e-01,\n",
       "        -9.90590067e-02, -2.97925143e-02,  3.19160819e-03,\n",
       "        -4.78092095e-04, -4.61338013e-03, -4.47144123e-03,\n",
       "         6.51334453e-05, -8.51926670e-04, -2.50758291e-03,\n",
       "        -2.05917548e-03,  3.79345096e-04, -3.96430147e-04,\n",
       "        -6.46108508e-04, -5.35292224e-04, -2.14294879e-04,\n",
       "        -7.15322961e-04, -1.35967047e-05, -2.72843593e-04,\n",
       "         9.59599772e-04,  8.14833825e-04, -1.41950434e-04,\n",
       "         3.11825504e-05,  9.87572069e-05,  7.34638814e-05,\n",
       "        -1.50214712e-04,  2.63176936e-05,  2.64194460e-05,\n",
       "        -7.87217513e-15]])"
      ]
     },
     "execution_count": 19,
     "metadata": {},
     "output_type": "execute_result"
    }
   ],
   "source": [
    "pca_data"
   ]
  },
  {
   "cell_type": "code",
   "execution_count": 20,
   "id": "545d9e1f",
   "metadata": {},
   "outputs": [],
   "source": [
    "per_var=np.round(pca.explained_variance_ratio_*100,decimals=1)\n",
    "labels=['PC'+str(x) for x in range(1,len(per_var)+1)]"
   ]
  },
  {
   "cell_type": "code",
   "execution_count": 21,
   "id": "e31da6da",
   "metadata": {
    "scrolled": false
   },
   "outputs": [
    {
     "data": {
      "image/png": "[encoded data removed]",
      "text/plain": [
       "<Figure size 432x288 with 1 Axes>"
      ]
     },
     "metadata": {
      "needs_background": "light"
     },
     "output_type": "display_data"
    }
   ],
   "source": [
    "plt.bar(x=range(1,len(per_var)+1),height=per_var, tick_label=labels)\n",
    "plt.ylabel('Percentage of Explained Variance')\n",
    "plt.xlabel('Principle Component')\n",
    "plt.title('Scree Plot')\n",
    "plt.show()"
   ]
  },
  {
   "cell_type": "markdown",
   "id": "67753e31",
   "metadata": {},
   "source": [
    "#### the scree plot shows that the percentage of explained varience is high(more than 95%), it shows that it presrves more than 95% of the data in the main dataset."
   ]
  },
  {
   "cell_type": "markdown",
   "id": "7ce78674",
   "metadata": {},
   "source": [
    "#### Principle Component Analysis helps to simplify the complexity of data but retains the patterns. It is helpful to understand the trends of the data and to interprt accordingly."
   ]
  },
  {
   "cell_type": "code",
   "execution_count": null,
   "id": "6fc5a73c",
   "metadata": {},
   "outputs": [],
   "source": []
  }
 ],
 "metadata": {
  "kernelspec": {
   "display_name": "Python 3 (ipykernel)",
   "language": "python",
   "name": "python3"
  },
  "language_info": {
   "codemirror_mode": {
    "name": "ipython",
    "version": 3
   },
   "file_extension": ".py",
   "mimetype": "text/x-python",
   "name": "python",
   "nbconvert_exporter": "python",
   "pygments_lexer": "ipython3",
   "version": "3.9.7"
  }
 },
 "nbformat": 4,
 "nbformat_minor": 5
}
